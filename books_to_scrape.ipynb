{
 "cells": [
  {
   "cell_type": "markdown",
   "id": "adf78b11",
   "metadata": {
    "heading_collapsed": true
   },
   "source": [
    "# 0.0. IMPORTS"
   ]
  },
  {
   "cell_type": "code",
   "execution_count": 1,
   "id": "d621d13b",
   "metadata": {
    "hidden": true
   },
   "outputs": [],
   "source": [
    "import re\n",
    "import datetime\n",
    "import requests\n",
    "import pandas as pd\n",
    "\n",
    "from bs4 import BeautifulSoup"
   ]
  },
  {
   "cell_type": "markdown",
   "id": "aa5ff1d4",
   "metadata": {
    "heading_collapsed": true
   },
   "source": [
    "# 1.0. COLETA DE DADOS"
   ]
  },
  {
   "cell_type": "markdown",
   "id": "92b5971f",
   "metadata": {
    "hidden": true
   },
   "source": [
    "    - Aqui eu vou tentar fazer um scrapy geral usando todas as paginas, pegando minhas informações principais\n",
    "    - Depois vou entrar no detalhe de cada produto pra pegar as informações adicionais \n",
    "    - Vou fazer dois dataframes e usar meu titulo pra mergear os dois "
   ]
  },
  {
   "cell_type": "markdown",
   "id": "f293f0d3",
   "metadata": {
    "hidden": true
   },
   "source": [
    "## 1.1. Api Request"
   ]
  },
  {
   "cell_type": "code",
   "execution_count": 2,
   "id": "ab232b3f",
   "metadata": {
    "hidden": true
   },
   "outputs": [],
   "source": [
    "url = 'https://books.toscrape.com/'\n",
    "headers = {'User-Agent': 'Mozilla/5.0 (Macintosh; Intel Mac OS X 10_11_5)AppleWebKit/537.36 (KHTML, like Gecko) Chrome/50.0.2661.102 Safari/537.36'}\n",
    "\n",
    "page = requests.get(url, headers = headers)\n",
    "\n",
    "soup = BeautifulSoup(page.text, 'html.parser')"
   ]
  },
  {
   "cell_type": "code",
   "execution_count": 3,
   "id": "e9f5cd80",
   "metadata": {
    "hidden": true
   },
   "outputs": [],
   "source": [
    "# Total de produtos no site\n",
    "total_products = soup.find_all('form', class_=\"form-horizontal\")[0].get_text().split('\\n') # 1000\n",
    "\n",
    "total_products = list(filter(None, total_products))[0]\n",
    "total_products = total_products[0:4]\n",
    "\n",
    "# Total de paginas no site\n",
    "pages_number = round(int(total_products) / 20) # 50 "
   ]
  },
  {
   "cell_type": "markdown",
   "id": "b4e1a3f8",
   "metadata": {
    "hidden": true
   },
   "source": [
    "## 1.2.TODAS AS PAGINAS"
   ]
  },
  {
   "cell_type": "code",
   "execution_count": 4,
   "id": "8d628e6b",
   "metadata": {
    "hidden": true
   },
   "outputs": [],
   "source": [
    "aux_details = []\n",
    "df_aux = pd.DataFrame(columns = ['title', 'price', 'star_rate'])\n",
    "\n",
    "\n",
    "for i in range( 1, pages_number+1 ):\n",
    "    \n",
    "    # pagina a pagina até a ultima do catalogo\n",
    "    url = 'https://books.toscrape.com/catalogue/page-' + str(i) + '.html'\n",
    "    \n",
    "    # api request\n",
    "    page = requests.get( url, headers=headers )\n",
    "    soup = BeautifulSoup( page.text, 'html.parser' )\n",
    "    \n",
    "    all_products = soup.find( 'ol', class_='row' ) # vitrine\n",
    "    product_list = all_products.find_all('a', href=True) # link de cada pagina\n",
    "    \n",
    "    # Pegando o nome dos titulos de cada livro \n",
    "    list_title = soup.find_all('a', href=True)\n",
    "\n",
    "    title = [i.get('title') for i in list_title]\n",
    "\n",
    "    # Fazendo a limpeza dos \"None's\" que vieram junto\n",
    "    title = list(filter(None, title))\n",
    "    \n",
    "    # Pegando o preço de cada livro\n",
    "    list_price = soup.find_all('p', class_='price_color')\n",
    "\n",
    "    prices = [i.get_text() for i in list_price]\n",
    "    \n",
    "    # Avaliações dos clientes\n",
    "    evaluation_list = soup.find_all('p', class_='star-rating')\n",
    "\n",
    "    evaluation = [i.get('class')[1] for i in evaluation_list]\n",
    "    \n",
    "    # Criando um dataframe\n",
    "    data = pd.DataFrame( [title, prices, evaluation]).T\n",
    "    data.columns = ['title', 'price', 'star_rate']\n",
    "    \n",
    "    data['scrapy_datetime'] = datetime.datetime.now().strftime('%Y-%m-%d %H:%M:%S')\n",
    "    \n",
    "    df_aux = pd.concat([df_aux, data], axis=0)\n",
    "    \n",
    "    \n",
    "    for i in range( 1, 40, 2 ):\n",
    "        aux_details.append( product_list[i]['href'] )\n",
    "        "
   ]
  },
  {
   "cell_type": "markdown",
   "id": "33e11aa3",
   "metadata": {
    "hidden": true
   },
   "source": [
    "## 1.3. DETALHE DO PRODUTO"
   ]
  },
  {
   "cell_type": "code",
   "execution_count": 5,
   "id": "93a4763f",
   "metadata": {
    "hidden": true
   },
   "outputs": [],
   "source": [
    "aux_title = []\n",
    "aux_availability = []\n",
    "aux_reviews = []\n",
    "aux_category = []\n",
    "\n",
    "for i in range(len(aux_details)):\n",
    "    url = 'https://books.toscrape.com/catalogue/' + aux_details[i]\n",
    "    \n",
    "    page = requests.get(url, headers = headers)\n",
    "\n",
    "    soup = BeautifulSoup(page.text, 'html.parser')\n",
    "    \n",
    "    title = soup.find_all('h1')[0].get_text()\n",
    "    aux_title.append(title)\n",
    "    \n",
    "    # Estoque de produtos\n",
    "    product_availability = soup.find_all('p', class_= 'instock availability')[0].get_text().split('\\n')\n",
    "    product_availability = product_availability[3]\n",
    "    \n",
    "    aux_availability.append(product_availability)\n",
    "    \n",
    "    # Avaliação do produto\n",
    "    product_review = soup.find_all('td')[6].get_text()\n",
    "    \n",
    "    aux_reviews.append(product_review)\n",
    "    \n",
    "    # Categoria do livro\n",
    "    book_category = soup.find_all('a', href=True)[3].get_text()\n",
    "    \n",
    "    aux_category.append(book_category)\n",
    "\n",
    "df_details = pd.DataFrame([aux_title, aux_category, aux_availability, aux_reviews]).T\n",
    "df_details.columns = ['title', 'book_category', 'stock', 'book_review']"
   ]
  },
  {
   "cell_type": "code",
   "execution_count": 6,
   "id": "4e337ea4",
   "metadata": {
    "hidden": true
   },
   "outputs": [],
   "source": [
    "data_final = pd.merge(df_details, df_aux, on = 'title', how = 'left')"
   ]
  },
  {
   "cell_type": "code",
   "execution_count": 7,
   "id": "8c6652e9",
   "metadata": {
    "hidden": true
   },
   "outputs": [],
   "source": [
    "data_final = data_final[['title', 'book_category', 'price', 'star_rate', 'stock']].copy()"
   ]
  },
  {
   "cell_type": "markdown",
   "id": "acdc8db0",
   "metadata": {
    "heading_collapsed": true
   },
   "source": [
    "#  2.0. DESCRIÇÃO DOS DADOS"
   ]
  },
  {
   "cell_type": "code",
   "execution_count": 8,
   "id": "6c9b8128",
   "metadata": {
    "hidden": true
   },
   "outputs": [
    {
     "data": {
      "text/html": [
       "<div>\n",
       "<style scoped>\n",
       "    .dataframe tbody tr th:only-of-type {\n",
       "        vertical-align: middle;\n",
       "    }\n",
       "\n",
       "    .dataframe tbody tr th {\n",
       "        vertical-align: top;\n",
       "    }\n",
       "\n",
       "    .dataframe thead th {\n",
       "        text-align: right;\n",
       "    }\n",
       "</style>\n",
       "<table border=\"1\" class=\"dataframe\">\n",
       "  <thead>\n",
       "    <tr style=\"text-align: right;\">\n",
       "      <th></th>\n",
       "      <th>title</th>\n",
       "      <th>book_category</th>\n",
       "      <th>price</th>\n",
       "      <th>star_rate</th>\n",
       "      <th>stock</th>\n",
       "    </tr>\n",
       "  </thead>\n",
       "  <tbody>\n",
       "    <tr>\n",
       "      <th>0</th>\n",
       "      <td>A Light in the Attic</td>\n",
       "      <td>Poetry</td>\n",
       "      <td>Â£51.77</td>\n",
       "      <td>Three</td>\n",
       "      <td>In stock (22 available)</td>\n",
       "    </tr>\n",
       "    <tr>\n",
       "      <th>1</th>\n",
       "      <td>Tipping the Velvet</td>\n",
       "      <td>Historical Fiction</td>\n",
       "      <td>Â£53.74</td>\n",
       "      <td>One</td>\n",
       "      <td>In stock (20 available)</td>\n",
       "    </tr>\n",
       "    <tr>\n",
       "      <th>2</th>\n",
       "      <td>Soumission</td>\n",
       "      <td>Fiction</td>\n",
       "      <td>Â£50.10</td>\n",
       "      <td>One</td>\n",
       "      <td>In stock (20 available)</td>\n",
       "    </tr>\n",
       "    <tr>\n",
       "      <th>3</th>\n",
       "      <td>Sharp Objects</td>\n",
       "      <td>Mystery</td>\n",
       "      <td>Â£47.82</td>\n",
       "      <td>Four</td>\n",
       "      <td>In stock (20 available)</td>\n",
       "    </tr>\n",
       "    <tr>\n",
       "      <th>4</th>\n",
       "      <td>Sapiens: A Brief History of Humankind</td>\n",
       "      <td>History</td>\n",
       "      <td>Â£54.23</td>\n",
       "      <td>Five</td>\n",
       "      <td>In stock (20 available)</td>\n",
       "    </tr>\n",
       "  </tbody>\n",
       "</table>\n",
       "</div>"
      ],
      "text/plain": [
       "                                   title       book_category    price  \\\n",
       "0                   A Light in the Attic              Poetry  Â£51.77   \n",
       "1                     Tipping the Velvet  Historical Fiction  Â£53.74   \n",
       "2                             Soumission             Fiction  Â£50.10   \n",
       "3                          Sharp Objects             Mystery  Â£47.82   \n",
       "4  Sapiens: A Brief History of Humankind             History  Â£54.23   \n",
       "\n",
       "  star_rate                            stock  \n",
       "0     Three          In stock (22 available)  \n",
       "1       One          In stock (20 available)  \n",
       "2       One          In stock (20 available)  \n",
       "3      Four          In stock (20 available)  \n",
       "4      Five          In stock (20 available)  "
      ]
     },
     "execution_count": 8,
     "metadata": {},
     "output_type": "execute_result"
    }
   ],
   "source": [
    "data = data_final.copy()\n",
    "\n",
    "data.head()"
   ]
  },
  {
   "cell_type": "markdown",
   "id": "f5d9c95e",
   "metadata": {
    "hidden": true
   },
   "source": [
    "## 2.1. Dimensões do Dataframe"
   ]
  },
  {
   "cell_type": "code",
   "execution_count": 9,
   "id": "9c018d47",
   "metadata": {
    "hidden": true
   },
   "outputs": [
    {
     "name": "stdout",
     "output_type": "stream",
     "text": [
      "Quantidade de linhas do meu dataframe: 1002\n",
      "Quantidade de colunas do meu dataframe: 5\n"
     ]
    }
   ],
   "source": [
    "print(f'Quantidade de linhas do meu dataframe: {data.shape[0]}')\n",
    "print(f'Quantidade de colunas do meu dataframe: {data.shape[1]}')"
   ]
  },
  {
   "cell_type": "markdown",
   "id": "c9b5ee9e",
   "metadata": {
    "hidden": true
   },
   "source": [
    "## 2.2. Tipos de dados"
   ]
  },
  {
   "cell_type": "code",
   "execution_count": 10,
   "id": "b6864e0b",
   "metadata": {
    "hidden": true
   },
   "outputs": [
    {
     "data": {
      "text/plain": [
       "title            object\n",
       "book_category    object\n",
       "price            object\n",
       "star_rate        object\n",
       "stock            object\n",
       "dtype: object"
      ]
     },
     "execution_count": 10,
     "metadata": {},
     "output_type": "execute_result"
    }
   ],
   "source": [
    "data.dtypes"
   ]
  },
  {
   "cell_type": "markdown",
   "id": "930d5b88",
   "metadata": {
    "hidden": true
   },
   "source": [
    "## 2.3. Checando NA's"
   ]
  },
  {
   "cell_type": "code",
   "execution_count": 11,
   "id": "452932f9",
   "metadata": {
    "hidden": true
   },
   "outputs": [
    {
     "data": {
      "text/plain": [
       "title            0\n",
       "book_category    0\n",
       "price            0\n",
       "star_rate        0\n",
       "stock            0\n",
       "dtype: int64"
      ]
     },
     "execution_count": 11,
     "metadata": {},
     "output_type": "execute_result"
    }
   ],
   "source": [
    "data.isnull().sum()"
   ]
  },
  {
   "cell_type": "markdown",
   "id": "be7f0090",
   "metadata": {
    "hidden": true
   },
   "source": [
    "## 2.4. Transformando os dados\n"
   ]
  },
  {
   "cell_type": "code",
   "execution_count": 12,
   "id": "e216ee76",
   "metadata": {
    "hidden": true
   },
   "outputs": [],
   "source": [
    "# Colocando os nomes dos meus titulos em minusculo\n",
    "data['title'] = data['title'].apply(lambda x: x.lower() if pd.notnull(x) else x) \n",
    "\n",
    "# Colocando as categorias dos livros em minusculo\n",
    "data['book_category'] = data['book_category'].apply(lambda x: x.lower() if pd.notnull(x) else x) \n",
    "\n",
    "# Retirando os caracteres 'Â£' do meu preço\n",
    "data['price'] = data['price'].apply(lambda x: x.replace('Â£', '')).astype(float)\n",
    "\n",
    "# star rate para numerico\n",
    "data['star_rate'] = data['star_rate'].apply(lambda x: 1 if x == 'One' else\n",
    "                                                    2 if x == 'Two' else\n",
    "                                                    3 if x == 'Three' else\n",
    "                                                    4 if x == 'Four' else 5).astype('int64')\n",
    "\n",
    "# Pegando somente o numero de avaliações\n",
    "data['stock'] = data['stock'].apply(lambda x: re.search('\\d?\\d', x).group(0) if pd.notnull(x) else x).astype('int64')\n",
    "\n",
    "# Removendo duplicidades do meu dataframe\n",
    "data = data.drop_duplicates(keep='last')"
   ]
  },
  {
   "cell_type": "markdown",
   "id": "6eb64a0b",
   "metadata": {
    "hidden": true
   },
   "source": [
    "## 2.5. Resultado final"
   ]
  },
  {
   "cell_type": "code",
   "execution_count": 13,
   "id": "ec2eb55b",
   "metadata": {
    "hidden": true
   },
   "outputs": [
    {
     "data": {
      "text/html": [
       "<div>\n",
       "<style scoped>\n",
       "    .dataframe tbody tr th:only-of-type {\n",
       "        vertical-align: middle;\n",
       "    }\n",
       "\n",
       "    .dataframe tbody tr th {\n",
       "        vertical-align: top;\n",
       "    }\n",
       "\n",
       "    .dataframe thead th {\n",
       "        text-align: right;\n",
       "    }\n",
       "</style>\n",
       "<table border=\"1\" class=\"dataframe\">\n",
       "  <thead>\n",
       "    <tr style=\"text-align: right;\">\n",
       "      <th></th>\n",
       "      <th>title</th>\n",
       "      <th>book_category</th>\n",
       "      <th>price</th>\n",
       "      <th>star_rate</th>\n",
       "      <th>stock</th>\n",
       "    </tr>\n",
       "  </thead>\n",
       "  <tbody>\n",
       "    <tr>\n",
       "      <th>0</th>\n",
       "      <td>a light in the attic</td>\n",
       "      <td>poetry</td>\n",
       "      <td>51.77</td>\n",
       "      <td>3</td>\n",
       "      <td>22</td>\n",
       "    </tr>\n",
       "    <tr>\n",
       "      <th>1</th>\n",
       "      <td>tipping the velvet</td>\n",
       "      <td>historical fiction</td>\n",
       "      <td>53.74</td>\n",
       "      <td>1</td>\n",
       "      <td>20</td>\n",
       "    </tr>\n",
       "    <tr>\n",
       "      <th>2</th>\n",
       "      <td>soumission</td>\n",
       "      <td>fiction</td>\n",
       "      <td>50.10</td>\n",
       "      <td>1</td>\n",
       "      <td>20</td>\n",
       "    </tr>\n",
       "    <tr>\n",
       "      <th>3</th>\n",
       "      <td>sharp objects</td>\n",
       "      <td>mystery</td>\n",
       "      <td>47.82</td>\n",
       "      <td>4</td>\n",
       "      <td>20</td>\n",
       "    </tr>\n",
       "    <tr>\n",
       "      <th>4</th>\n",
       "      <td>sapiens: a brief history of humankind</td>\n",
       "      <td>history</td>\n",
       "      <td>54.23</td>\n",
       "      <td>5</td>\n",
       "      <td>20</td>\n",
       "    </tr>\n",
       "  </tbody>\n",
       "</table>\n",
       "</div>"
      ],
      "text/plain": [
       "                                   title       book_category  price  \\\n",
       "0                   a light in the attic              poetry  51.77   \n",
       "1                     tipping the velvet  historical fiction  53.74   \n",
       "2                             soumission             fiction  50.10   \n",
       "3                          sharp objects             mystery  47.82   \n",
       "4  sapiens: a brief history of humankind             history  54.23   \n",
       "\n",
       "   star_rate  stock  \n",
       "0          3     22  \n",
       "1          1     20  \n",
       "2          1     20  \n",
       "3          4     20  \n",
       "4          5     20  "
      ]
     },
     "execution_count": 13,
     "metadata": {},
     "output_type": "execute_result"
    }
   ],
   "source": [
    "data.head()"
   ]
  }
 ],
 "metadata": {
  "kernelspec": {
   "display_name": "Python 3 (ipykernel)",
   "language": "python",
   "name": "python3"
  },
  "language_info": {
   "codemirror_mode": {
    "name": "ipython",
    "version": 3
   },
   "file_extension": ".py",
   "mimetype": "text/x-python",
   "name": "python",
   "nbconvert_exporter": "python",
   "pygments_lexer": "ipython3",
   "version": "3.9.12"
  },
  "varInspector": {
   "cols": {
    "lenName": 16,
    "lenType": 16,
    "lenVar": 40
   },
   "kernels_config": {
    "python": {
     "delete_cmd_postfix": "",
     "delete_cmd_prefix": "del ",
     "library": "var_list.py",
     "varRefreshCmd": "print(var_dic_list())"
    },
    "r": {
     "delete_cmd_postfix": ") ",
     "delete_cmd_prefix": "rm(",
     "library": "var_list.r",
     "varRefreshCmd": "cat(var_dic_list()) "
    }
   },
   "types_to_exclude": [
    "module",
    "function",
    "builtin_function_or_method",
    "instance",
    "_Feature"
   ],
   "window_display": false
  }
 },
 "nbformat": 4,
 "nbformat_minor": 5
}
